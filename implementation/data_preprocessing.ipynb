{
 "cells": [
  {
   "cell_type": "code",
   "execution_count": 1,
   "id": "ead750da",
   "metadata": {},
   "outputs": [],
   "source": [
    "from pathlib import Path\n",
    "\n",
    "import pandas as pd\n",
    "pd.options.mode.chained_assignment = None\n",
    "import numpy as np\n",
    "\n",
    "import numbers\n",
    "\n",
    "from sklearn.metrics import matthews_corrcoef"
   ]
  },
  {
   "cell_type": "code",
   "execution_count": 2,
   "id": "1ba60b89",
   "metadata": {},
   "outputs": [],
   "source": [
    "INITIAL_PATH = Path.cwd().parent\n",
    "DATA_PATH = INITIAL_PATH / 'data'\n",
    "INITIAL_DATA_PATH = DATA_PATH / 'initial'\n",
    "PREPROCESSED_DATA_PATH = DATA_PATH / 'preprocessed'"
   ]
  },
  {
   "cell_type": "code",
   "execution_count": 3,
   "id": "0193370e",
   "metadata": {},
   "outputs": [],
   "source": [
    "INITIAL_KLEKOTA_ROTH_DATA = INITIAL_DATA_PATH / 'cardiotoxicity_hERG_KlekFP_ready_set.csv'\n",
    "INITIAL_MACCS_DATA = INITIAL_DATA_PATH / 'cardiotoxicity_hERG_MACCSFP_ready_set.csv'\n",
    "INITIAL_EXT_DATA = INITIAL_DATA_PATH / 'cardiotoxicity_hERG_ExtFP_ready_set.csv'\n",
    "\n",
    "PREPROCESSED_KLEKOTA_ROTH_DATA = PREPROCESSED_DATA_PATH / 'cardiotoxicity_hERG_KlekFP.csv'\n",
    "PREPROCESSED_MACCS_DATA = PREPROCESSED_DATA_PATH / 'cardiotoxicity_hERG_MACCSFP.csv'\n",
    "PREPROCESSED_EXT_DATA = PREPROCESSED_DATA_PATH / 'cardiotoxicity_hERG_ExtFP.csv'\n",
    "\n",
    "PREPROCESSED_KLEKOTA_ROTH__MACCS_DATA = PREPROCESSED_DATA_PATH / 'cardiotoxicity_hERG_KlekFP-MACCSFP.csv'\n",
    "PREPROCESSED_KLEKOTA_ROTH__EXT_DATA = PREPROCESSED_DATA_PATH / 'cardiotoxicity_hERG_KlekFP-ExtFP.csv'\n",
    "PREPROCESSED_MACCS__EXT_DATA = PREPROCESSED_DATA_PATH / 'cardiotoxicity_hERG_MACCSFP-ExtFP.csv'\n",
    "PREPROCESSED_KLEKOTA_ROTH__MACCS__EXT_DATA = PREPROCESSED_DATA_PATH / 'cardiotoxicity_hERG_KlekFP-MACCSFP-ExtFP.csv'"
   ]
  },
  {
   "cell_type": "code",
   "execution_count": 4,
   "id": "f9f89e2a",
   "metadata": {},
   "outputs": [],
   "source": [
    "SPLITTED_DATA_PATH = PREPROCESSED_DATA_PATH / 'splitted'\n",
    "PREPROCESSED_KLEKOTA_ROTH_DATA_X = SPLITTED_DATA_PATH / '{}/cardiotoxicity_hERG_KlekFP[{}].csv'\n",
    "PREPROCESSED_MACCS_DATA_X = SPLITTED_DATA_PATH / '{}/cardiotoxicity_hERG_MACCSFP[{}].csv'\n",
    "PREPROCESSED_EXT_DATA_X = SPLITTED_DATA_PATH / '{}/cardiotoxicity_hERG_ExtFP[{}].csv'\n",
    "\n",
    "PREPROCESSED_KLEKOTA_ROTH__MACCS_DATA_X = SPLITTED_DATA_PATH / '{}/cardiotoxicity_hERG_KlekFP-MACCSFP[{}].csv'\n",
    "PREPROCESSED_KLEKOTA_ROTH__EXT_DATA_X = SPLITTED_DATA_PATH / '{}/cardiotoxicity_hERG_KlekFP-ExtFP[{}].csv'\n",
    "PREPROCESSED_MACCS__EXT_DATA_X = SPLITTED_DATA_PATH / '{}/cardiotoxicity_hERG_MACCSFP-ExtFP[{}].csv'\n",
    "PREPROCESSED_KLEKOTA_ROTH__MACCS__EXT_DATA_X = SPLITTED_DATA_PATH / '{}/cardiotoxicity_hERG_KlekFP-MACCSFP-ExtFP.csv[{}]'"
   ]
  },
  {
   "cell_type": "code",
   "execution_count": 5,
   "id": "baba28cb",
   "metadata": {},
   "outputs": [],
   "source": [
    "class DataCleaner():\n",
    "    \n",
    "    def apply(self, input_filepath, output_filepath):\n",
    "        df = pd.read_csv(input_filepath)\n",
    "        df = df[df['IC50'].apply(self.__is_float)]\n",
    "        df['IC50'] = df['IC50'].astype('float64')\n",
    "        df[1:] = df[1:].astype('int')\n",
    "    \n",
    "        columns_without_difference = [k for k,v in df.apply(lambda col: col.unique()).apply(lambda x: len(x) == 1).items() if v]\n",
    "        df = df.drop(columns=columns_without_difference)\n",
    "        \n",
    "        is_toxic = df.apply(self.__calculate_if_toxic, axis=1)\n",
    "        df.insert(1, 'toxic', is_toxic)\n",
    "        \n",
    "        df.to_csv(output_filepath, index = False)\n",
    "        \n",
    "    @staticmethod\n",
    "    def __is_float(value):\n",
    "        try:\n",
    "            float(value)\n",
    "            return True\n",
    "        except:\n",
    "            return False\n",
    "        \n",
    "    @staticmethod\n",
    "    def __calculate_if_toxic(row):\n",
    "        if row['IC50'] < 10000:\n",
    "            return 1\n",
    "        return 0"
   ]
  },
  {
   "cell_type": "code",
   "execution_count": 6,
   "id": "efbb8bda",
   "metadata": {},
   "outputs": [
    {
     "name": "stderr",
     "output_type": "stream",
     "text": [
      "C:\\Users\\SG0306~1\\AppData\\Local\\Temp\\2/ipykernel_9764/2275292079.py:10: DtypeWarning: Columns (0) have mixed types.Specify dtype option on import or set low_memory=False.\n",
      "  data_cleaner.apply(data[0], data[1])\n"
     ]
    }
   ],
   "source": [
    "data_to_process = [\n",
    "    (INITIAL_KLEKOTA_ROTH_DATA, PREPROCESSED_KLEKOTA_ROTH_DATA), \n",
    "    (INITIAL_MACCS_DATA, PREPROCESSED_MACCS_DATA), \n",
    "    (INITIAL_EXT_DATA, PREPROCESSED_EXT_DATA)\n",
    "]\n",
    "\n",
    "data_cleaner = DataCleaner()\n",
    "\n",
    "for data in data_to_process:\n",
    "    data_cleaner.apply(data[0], data[1])"
   ]
  },
  {
   "cell_type": "code",
   "execution_count": 7,
   "id": "31a5b053",
   "metadata": {},
   "outputs": [],
   "source": [
    "class DataCombiner():\n",
    "    \n",
    "    def apply(self, input_filepaths, output_filepath):\n",
    "        df = pd.read_csv(input_filepaths[0])\n",
    "        \n",
    "        for input_filepath in input_filepaths[1:]:\n",
    "            df_temp = pd.read_csv(input_filepath)\n",
    "            df_temp = df_temp.drop(['IC50', 'toxic'], axis=1)\n",
    "            df = df.join(df_temp)\n",
    "        \n",
    "        df.to_csv(output_filepath, index = False)"
   ]
  },
  {
   "cell_type": "code",
   "execution_count": 8,
   "id": "0f0ab731",
   "metadata": {},
   "outputs": [],
   "source": [
    "data_to_process = [\n",
    "    ([PREPROCESSED_KLEKOTA_ROTH_DATA, PREPROCESSED_MACCS_DATA], PREPROCESSED_KLEKOTA_ROTH__MACCS_DATA), \n",
    "    ([PREPROCESSED_KLEKOTA_ROTH_DATA, PREPROCESSED_EXT_DATA], PREPROCESSED_KLEKOTA_ROTH__EXT_DATA), \n",
    "    ([PREPROCESSED_MACCS_DATA, PREPROCESSED_EXT_DATA], PREPROCESSED_MACCS__EXT_DATA),\n",
    "    ([PREPROCESSED_KLEKOTA_ROTH_DATA, PREPROCESSED_MACCS_DATA, PREPROCESSED_EXT_DATA], PREPROCESSED_KLEKOTA_ROTH__MACCS__EXT_DATA)\n",
    "]\n",
    "\n",
    "data_combiner = DataCombiner()\n",
    "\n",
    "for data in data_to_process:\n",
    "    data_combiner.apply(data[0], data[1])"
   ]
  },
  {
   "cell_type": "code",
   "execution_count": 9,
   "id": "b51c1894",
   "metadata": {},
   "outputs": [],
   "source": [
    "class FeatureSplitter():\n",
    "    \n",
    "    def apply(self, input_filepath, output_filepath, number_of_features):\n",
    "        df = pd.read_csv(input_filepath)\n",
    "        \n",
    "        toxic_column = df['toxic']\n",
    "        df_temp = df.drop(['IC50', 'toxic'], axis=1)\n",
    "        if number_of_features > len(df_temp.columns):\n",
    "            print(f\"Skipping features splitting for {input_filepath}, because of not enough features: {number_of_features}\")\n",
    "            return\n",
    "        \n",
    "        results = [matthews_corrcoef(toxic_column, df_temp[column]) for column in df_temp.columns]\n",
    "        sorted_results = sorted(enumerate(results), key=lambda x:x[1])[::-1]\n",
    "        \n",
    "        wanted_column_indexes = [column_index for column_index, value in sorted_results[0:number_of_features]]\n",
    "        wanted_columns = df_temp[df_temp.columns[wanted_column_indexes]]\n",
    "        \n",
    "        output = df[['IC50', 'toxic']].join(wanted_columns)\n",
    "        \n",
    "        output_path = Path(str(output_filepath).format(number_of_features, number_of_features))\n",
    "        print(f'Saving splitted features to file {output_path}')\n",
    "        \n",
    "        output.to_csv(output_path, index = False)\n"
   ]
  },
  {
   "cell_type": "code",
   "execution_count": 10,
   "id": "f3e40321",
   "metadata": {},
   "outputs": [
    {
     "name": "stdout",
     "output_type": "stream",
     "text": [
      "Saving splitted features to file C:\\Users\\SG0306249\\Downloads\\cardiotoxicity_prediction-main\\cardiotoxicity_prediction-main\\data\\preprocessed\\splitted\\500\\cardiotoxicity_hERG_KlekFP[500].csv\n",
      "Skipping features splitting for C:\\Users\\SG0306249\\Downloads\\cardiotoxicity_prediction-main\\cardiotoxicity_prediction-main\\data\\preprocessed\\cardiotoxicity_hERG_MACCSFP.csv, because of not enough features: 500\n",
      "Saving splitted features to file C:\\Users\\SG0306249\\Downloads\\cardiotoxicity_prediction-main\\cardiotoxicity_prediction-main\\data\\preprocessed\\splitted\\500\\cardiotoxicity_hERG_ExtFP[500].csv\n",
      "Saving splitted features to file C:\\Users\\SG0306249\\Downloads\\cardiotoxicity_prediction-main\\cardiotoxicity_prediction-main\\data\\preprocessed\\splitted\\500\\cardiotoxicity_hERG_KlekFP-MACCSFP[500].csv\n",
      "Saving splitted features to file C:\\Users\\SG0306249\\Downloads\\cardiotoxicity_prediction-main\\cardiotoxicity_prediction-main\\data\\preprocessed\\splitted\\500\\cardiotoxicity_hERG_KlekFP-ExtFP[500].csv\n",
      "Saving splitted features to file C:\\Users\\SG0306249\\Downloads\\cardiotoxicity_prediction-main\\cardiotoxicity_prediction-main\\data\\preprocessed\\splitted\\500\\cardiotoxicity_hERG_MACCSFP-ExtFP[500].csv\n",
      "Saving splitted features to file C:\\Users\\SG0306249\\Downloads\\cardiotoxicity_prediction-main\\cardiotoxicity_prediction-main\\data\\preprocessed\\splitted\\500\\cardiotoxicity_hERG_KlekFP-MACCSFP-ExtFP.csv[500]\n",
      "Saving splitted features to file C:\\Users\\SG0306249\\Downloads\\cardiotoxicity_prediction-main\\cardiotoxicity_prediction-main\\data\\preprocessed\\splitted\\1000\\cardiotoxicity_hERG_KlekFP[1000].csv\n",
      "Skipping features splitting for C:\\Users\\SG0306249\\Downloads\\cardiotoxicity_prediction-main\\cardiotoxicity_prediction-main\\data\\preprocessed\\cardiotoxicity_hERG_MACCSFP.csv, because of not enough features: 1000\n",
      "Saving splitted features to file C:\\Users\\SG0306249\\Downloads\\cardiotoxicity_prediction-main\\cardiotoxicity_prediction-main\\data\\preprocessed\\splitted\\1000\\cardiotoxicity_hERG_ExtFP[1000].csv\n",
      "Saving splitted features to file C:\\Users\\SG0306249\\Downloads\\cardiotoxicity_prediction-main\\cardiotoxicity_prediction-main\\data\\preprocessed\\splitted\\1000\\cardiotoxicity_hERG_KlekFP-MACCSFP[1000].csv\n",
      "Saving splitted features to file C:\\Users\\SG0306249\\Downloads\\cardiotoxicity_prediction-main\\cardiotoxicity_prediction-main\\data\\preprocessed\\splitted\\1000\\cardiotoxicity_hERG_KlekFP-ExtFP[1000].csv\n",
      "Saving splitted features to file C:\\Users\\SG0306249\\Downloads\\cardiotoxicity_prediction-main\\cardiotoxicity_prediction-main\\data\\preprocessed\\splitted\\1000\\cardiotoxicity_hERG_MACCSFP-ExtFP[1000].csv\n",
      "Saving splitted features to file C:\\Users\\SG0306249\\Downloads\\cardiotoxicity_prediction-main\\cardiotoxicity_prediction-main\\data\\preprocessed\\splitted\\1000\\cardiotoxicity_hERG_KlekFP-MACCSFP-ExtFP.csv[1000]\n",
      "Saving splitted features to file C:\\Users\\SG0306249\\Downloads\\cardiotoxicity_prediction-main\\cardiotoxicity_prediction-main\\data\\preprocessed\\splitted\\1500\\cardiotoxicity_hERG_KlekFP[1500].csv\n",
      "Skipping features splitting for C:\\Users\\SG0306249\\Downloads\\cardiotoxicity_prediction-main\\cardiotoxicity_prediction-main\\data\\preprocessed\\cardiotoxicity_hERG_MACCSFP.csv, because of not enough features: 1500\n",
      "Skipping features splitting for C:\\Users\\SG0306249\\Downloads\\cardiotoxicity_prediction-main\\cardiotoxicity_prediction-main\\data\\preprocessed\\cardiotoxicity_hERG_ExtFP.csv, because of not enough features: 1500\n",
      "Saving splitted features to file C:\\Users\\SG0306249\\Downloads\\cardiotoxicity_prediction-main\\cardiotoxicity_prediction-main\\data\\preprocessed\\splitted\\1500\\cardiotoxicity_hERG_KlekFP-MACCSFP[1500].csv\n",
      "Saving splitted features to file C:\\Users\\SG0306249\\Downloads\\cardiotoxicity_prediction-main\\cardiotoxicity_prediction-main\\data\\preprocessed\\splitted\\1500\\cardiotoxicity_hERG_KlekFP-ExtFP[1500].csv\n",
      "Skipping features splitting for C:\\Users\\SG0306249\\Downloads\\cardiotoxicity_prediction-main\\cardiotoxicity_prediction-main\\data\\preprocessed\\cardiotoxicity_hERG_MACCSFP-ExtFP.csv, because of not enough features: 1500\n",
      "Saving splitted features to file C:\\Users\\SG0306249\\Downloads\\cardiotoxicity_prediction-main\\cardiotoxicity_prediction-main\\data\\preprocessed\\splitted\\1500\\cardiotoxicity_hERG_KlekFP-MACCSFP-ExtFP.csv[1500]\n",
      "Saving splitted features to file C:\\Users\\SG0306249\\Downloads\\cardiotoxicity_prediction-main\\cardiotoxicity_prediction-main\\data\\preprocessed\\splitted\\2000\\cardiotoxicity_hERG_KlekFP[2000].csv\n",
      "Skipping features splitting for C:\\Users\\SG0306249\\Downloads\\cardiotoxicity_prediction-main\\cardiotoxicity_prediction-main\\data\\preprocessed\\cardiotoxicity_hERG_MACCSFP.csv, because of not enough features: 2000\n",
      "Skipping features splitting for C:\\Users\\SG0306249\\Downloads\\cardiotoxicity_prediction-main\\cardiotoxicity_prediction-main\\data\\preprocessed\\cardiotoxicity_hERG_ExtFP.csv, because of not enough features: 2000\n",
      "Saving splitted features to file C:\\Users\\SG0306249\\Downloads\\cardiotoxicity_prediction-main\\cardiotoxicity_prediction-main\\data\\preprocessed\\splitted\\2000\\cardiotoxicity_hERG_KlekFP-MACCSFP[2000].csv\n",
      "Saving splitted features to file C:\\Users\\SG0306249\\Downloads\\cardiotoxicity_prediction-main\\cardiotoxicity_prediction-main\\data\\preprocessed\\splitted\\2000\\cardiotoxicity_hERG_KlekFP-ExtFP[2000].csv\n",
      "Skipping features splitting for C:\\Users\\SG0306249\\Downloads\\cardiotoxicity_prediction-main\\cardiotoxicity_prediction-main\\data\\preprocessed\\cardiotoxicity_hERG_MACCSFP-ExtFP.csv, because of not enough features: 2000\n",
      "Saving splitted features to file C:\\Users\\SG0306249\\Downloads\\cardiotoxicity_prediction-main\\cardiotoxicity_prediction-main\\data\\preprocessed\\splitted\\2000\\cardiotoxicity_hERG_KlekFP-MACCSFP-ExtFP.csv[2000]\n"
     ]
    }
   ],
   "source": [
    "data_to_process = [\n",
    "    (PREPROCESSED_KLEKOTA_ROTH_DATA, PREPROCESSED_KLEKOTA_ROTH_DATA_X), \n",
    "    (PREPROCESSED_MACCS_DATA, PREPROCESSED_MACCS_DATA_X), \n",
    "    (PREPROCESSED_EXT_DATA, PREPROCESSED_EXT_DATA_X),\n",
    "    \n",
    "    (PREPROCESSED_KLEKOTA_ROTH__MACCS_DATA, PREPROCESSED_KLEKOTA_ROTH__MACCS_DATA_X), \n",
    "    (PREPROCESSED_KLEKOTA_ROTH__EXT_DATA, PREPROCESSED_KLEKOTA_ROTH__EXT_DATA_X), \n",
    "    (PREPROCESSED_MACCS__EXT_DATA, PREPROCESSED_MACCS__EXT_DATA_X),\n",
    "    (PREPROCESSED_KLEKOTA_ROTH__MACCS__EXT_DATA, PREPROCESSED_KLEKOTA_ROTH__MACCS__EXT_DATA_X)\n",
    "]\n",
    "\n",
    "feature_splitter = FeatureSplitter()\n",
    "\n",
    "for x in range(500, 2500, 500):\n",
    "    for data in data_to_process:\n",
    "        feature_splitter.apply(data[0], data[1], x)"
   ]
  }
 ],
 "metadata": {
  "kernelspec": {
   "display_name": "Python 3 (ipykernel)",
   "language": "python",
   "name": "python3"
  },
  "language_info": {
   "codemirror_mode": {
    "name": "ipython",
    "version": 3
   },
   "file_extension": ".py",
   "mimetype": "text/x-python",
   "name": "python",
   "nbconvert_exporter": "python",
   "pygments_lexer": "ipython3",
   "version": "3.9.7"
  }
 },
 "nbformat": 4,
 "nbformat_minor": 5
}
